{
 "cells": [
  {
   "cell_type": "markdown",
   "metadata": {},
   "source": [
    "# Project 4: Web Scraping Job Postings\n",
    "\n",
    "### Factors that impact salary\n",
    "    To predict salary you will be building either a classification or regression model, using features like the location, title, and summary of the job. If framing this as a regression problem, you will be estimating the listed salary amounts. You may instead choose to frame this as a classification problem, in which case you will create labels from these salaries (high vs. low salary, for example) according to thresholds (such as median salary). \n",
    "    \n",
    "    Predictors: Location (Use NLP to extract Country), Title, Job Summary\n",
    "    Target: Salary Amount (Regression) / Salary Category (Classification)\n",
    "\n",
    "### Factors that distinguish job category\n",
    "    Using the job postings you scraped for part 1 (or potentially new job postings from a second round of scraping), identify features in the data related to job postings that can distinguish job titles from each other. There are a variety of interesting ways you can frame the target variable, for example:\n",
    "\n",
    "    What components of a job posting distinguish data scientists from other data jobs?\n",
    "    \n",
    "    Predictors: To be determined\n",
    "    Target: Data Scientist Or Not \n",
    "    \n",
    "    What features are important for distinguishing junior vs. senior positions?\n",
    "    \n",
    "    Predictors: To be determined\n",
    "    Target: Junior / Senior Position [Position Level]\n",
    "    \n",
    "    Do the requirements for titles vary significantly with industry (e.g. healthcare vs. government)?\n",
    "    \n",
    "    Predictors: Title Features\n",
    "    Target: Job Category (id=job-categories)\n",
    "    "
   ]
  },
  {
   "cell_type": "code",
   "execution_count": 1,
   "metadata": {},
   "outputs": [],
   "source": [
    "# Define Search Terms: data scientist, data analyst, research scientist, business intelligence"
   ]
  },
  {
   "cell_type": "markdown",
   "metadata": {},
   "source": [
    "### Let's select a website to crawl"
   ]
  },
  {
   "cell_type": "markdown",
   "metadata": {},
   "source": [
    "| Website | Location (NWES)   | Salary   | HTML class Structure   |\n",
    "|------|------|------|------|\n",
    "|   JobCentral  | Absent| Partial   | Messy  |\n",
    "|   MyCareersFuture  | Present| Partial   | OK   | \n",
    "|   CareersGov  | Absent| Absent   | Messy   | \n",
    "\n"
   ]
  },
  {
   "cell_type": "code",
   "execution_count": 2,
   "metadata": {},
   "outputs": [],
   "source": [
    "# import requests\n",
    "\n",
    "# url_front = 'https://www.mycareersfuture.sg/search?search='\n",
    "# url_back = '&sortBy=new_posting_date&page='\n",
    "\n",
    "# search_terms = ['data scientist', 'data analyst']\n",
    "# for search_term in search_terms:\n",
    "#     response = requests.get(url_front+search_term.replace(' ', '%20')+url_back+str(0)).text\n",
    "#     soup = BeautifulSoup(response)\n",
    "#     print(soup)\n",
    "#     print(soup.find_all('a'))\n",
    "# # https://www.mycareersfuture.sg/search?search=data%20analyst&sortBy=new_posting_date&page=0\n",
    "# need to use selenium as it is a dynamic page"
   ]
  },
  {
   "cell_type": "code",
   "execution_count": 12,
   "metadata": {},
   "outputs": [
    {
     "name": "stdout",
     "output_type": "stream",
     "text": [
      "/job/data-scientist-jabil-circuit-51ea2ce5b0eedff231dc658097a05543\n",
      "/job/data-scientist-hewlett-packard-enterprise-singapore-4cd401024939234386449a21c78de05b\n",
      "/job/data-scientist-smartsoft-c605a552bf2a0ae3caad295b5a238394\n",
      "/job/data-scientist-schellden-global-services-2cce3a0fd90690d4b4505d77e0eff1e7\n",
      "/job/data-scientist-schellden-global-7b446f16f1967685b15c4d50565d63bd\n",
      "/job/data-scientist-siemens-f76d3f9f081a63cff0d2e4319ad98d58\n",
      "/job/data-scientist-graebel-apac-center-295662cfb61e5e92694f9dbd081bc1c0\n",
      "/job/data-scientist-mannhummel-ventures-9ffef96084b9ec6e133c6bee88026928\n",
      "/job/data-scientist-sensorflow-1e90b327703a5b42c6961ef23e2994f1\n",
      "/job/data-scientist-cisco-systems-ab78825f2f9666e3ea8ac0c296a1476d\n",
      "/job/data-scientist-singapore-telecommunications-521d6cc01d708764e5a131f3c18b3a47\n",
      "/job/data-scientist-sopra-steria-asia-02a1196b078ee709327436f183222379\n",
      "/job/research-associat-nanyang-technological-university-ad08206598803824ebf0cf7780ecf07c\n",
      "/job/data-scientist-government-technology-agency-f4a85908b1dea9966cfa8c8d0202bc82\n",
      "/job/data-scientist-government-technology-agency-6ed5060f4b486e0148f169e6c3b9cc05\n",
      "/job/data-scientist-government-technology-agency-5f3459ef82a41bdfb8e62598c18e9c16\n",
      "/job/lead-data-scientist-bigtapp-2679aeb5e81108b7ee2c4c1b0dd23e5a\n",
      "/job/data-scientist-ntuc-link-38969bf8c12ff2a72f1e27e73b8e883a\n",
      "/job/data-scientist-dell-global-bv-0b01058acbfe285d543e5fc532a6c122\n",
      "/job/data-scientist-lynx-analytics-ae51b760eb69abac1468b59c8bbaae6e\n",
      "/job/risk-data-analyst-cac40e8808a6a0c4112864a0633e3778\n",
      "/job/data-analyst-sbs-transit-80bfa22b3640dd3083526ddc05ad28d3\n",
      "/job/quality-data-analyst-adecco-personnel-34f4175aa229b0e405a44ef9f88ff16c\n",
      "/job/data-analyst-adecco-personnel-53aa81b4703a7168cfd3288ad3625e7b\n",
      "/job/market-analyst-grabtaxi-holdings-962b6b110b66841082656a7f6fc8c7eb\n",
      "/job/digital-data-analyst-kerry-consulting-7b9dca9acb10200b5152f48c6e23d25d\n",
      "/job/data-analyst-transformation-project-chandler-macleod-group-24926b459347ba55308cd4fa6b57d7b5\n",
      "/job/commercial-data-analyst-gmp-recruitment-services-791c9b319e8fc26ee88a691f7f4867c9\n",
      "/job/senior-data-analyst-99-a17b2cb30afd62ddc9d73df3948816a8\n",
      "/job/data-analyst-optimum-solutions-d8fc06c411925aea9449ce92e0e77cc1\n",
      "/job/data-analyst-database-analyst-groupm-asia-pacific-holdings-631ebc36a74a85ee710dd711480e199d\n",
      "/job/data-analyst-mindtree-f03f4f6fe41d6939bbd04f73c94c7f1f\n",
      "/job/senior-data-analyst-u3-infotech-94bd5065c37588a6d6e1f4d8d022fa18\n",
      "/job/data-analyst-u3-infotech-6d6ba35c5b89399f784425eebc16df61\n",
      "/job/data-analyst-hydrogen-consulting-solutions-d71c348ca2407b61bf80ab1839c8840e\n",
      "/job/industrial-data-analyst-ic-pro-og-technologies-54f97212692a7eb2121719d4cf958a5e\n",
      "/job/business-data-analyst-rgf-talent-solutions-singapore-1c39d70cd0ee3b916a6c6e812e9ea051\n",
      "/job/data-analyst-8192e95c174699cdc34b4409185f70a4\n",
      "/job/data-analyst-371c128516edd09c115dd8d60f55681f\n",
      "/job/ebs-spark-developer-cittabase-solutions-300c3d7953d6cca872211aab8636cc2a\n"
     ]
    }
   ],
   "source": [
    "from time import sleep\n",
    "from selenium import webdriver\n",
    "from bs4 import BeautifulSoup\n",
    "\n",
    "url_front = 'https://www.mycareersfuture.sg/search?search='\n",
    "url_back = '&sortBy=new_posting_date&page='\n",
    "\n",
    "search_terms = ['data scientist', 'data analyst']\n",
    "\n",
    "for search_term in search_terms:\n",
    "    browser = webdriver.Chrome('./chromedriver')    \n",
    "    browser.get(url_front+search_term.replace(' ', '%20')+url_back+str(0))\n",
    "    sleep(5)\n",
    "    soup = BeautifulSoup(browser.page_source)\n",
    "    browser.close()\n",
    "    all_listing = soup.find('div', attrs={'class':'card-list'})\n",
    "    for link in all_listing.find_all('a', href=True):\n",
    "        if '/job/' in link['href']: # filter away non-job related links\n",
    "            print(link['href'])"
   ]
  },
  {
   "cell_type": "code",
   "execution_count": null,
   "metadata": {},
   "outputs": [],
   "source": []
  }
 ],
 "metadata": {
  "kernelspec": {
   "display_name": "Python 3",
   "language": "python",
   "name": "python3"
  },
  "language_info": {
   "codemirror_mode": {
    "name": "ipython",
    "version": 3
   },
   "file_extension": ".py",
   "mimetype": "text/x-python",
   "name": "python",
   "nbconvert_exporter": "python",
   "pygments_lexer": "ipython3",
   "version": "3.6.8"
  }
 },
 "nbformat": 4,
 "nbformat_minor": 2
}
